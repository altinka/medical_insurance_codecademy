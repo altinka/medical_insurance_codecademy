{
 "cells": [
  {
   "cell_type": "markdown",
   "metadata": {},
   "source": [
    "# U.S. Medical Insurance Costs"
   ]
  },
  {
   "cell_type": "markdown",
   "metadata": {},
   "source": [
    "## Calculation #1 Average Insurance Cost "
   ]
  },
  {
   "cell_type": "code",
   "execution_count": 1,
   "metadata": {},
   "outputs": [],
   "source": [
    "#Average insurance charge \n",
    "#First I want to find out total amount of charges for the given sample\n",
    "import csv\n",
    "total_charges = []\n",
    "with open(\"insurance.csv\", \"r\") as insurance_csv:\n",
    "    insurance_csv = csv.DictReader(insurance_csv)\n",
    "    for row in insurance_csv:\n",
    "        total_charges.append(row[\"charges\"])\n",
    " \n",
    "    \n"
   ]
  },
  {
   "cell_type": "code",
   "execution_count": 2,
   "metadata": {
    "scrolled": true
   },
   "outputs": [
    {
     "name": "stdout",
     "output_type": "stream",
     "text": [
      "1338\n"
     ]
    }
   ],
   "source": [
    "#After separating list of charges, I want to find the number of people given in the sample\n",
    "num = len(total_charges)\n",
    "print(num)"
   ]
  },
  {
   "cell_type": "code",
   "execution_count": 3,
   "metadata": {
    "scrolled": true
   },
   "outputs": [
    {
     "name": "stdout",
     "output_type": "stream",
     "text": [
      "17755824.990759\n"
     ]
    }
   ],
   "source": [
    "#Sum of all charges\n",
    "total_charges_int = [float(charge) for charge in total_charges]\n",
    "total_charges_sum = 0\n",
    "for element in range(0, len(total_charges_int)):\n",
    "    total_charges_sum += total_charges_int[element]\n",
    "print(total_charges_sum)\n",
    "    "
   ]
  },
  {
   "cell_type": "code",
   "execution_count": 4,
   "metadata": {},
   "outputs": [
    {
     "name": "stdout",
     "output_type": "stream",
     "text": [
      "13270.42\n"
     ]
    }
   ],
   "source": [
    "#Now I can find the average insurance charge per person\n",
    "average_charge = total_charges_sum / num\n",
    "#rounding decimals\n",
    "average_charge_r = round(average_charge, 2)\n",
    "print(average_charge_r)"
   ]
  },
  {
   "cell_type": "markdown",
   "metadata": {},
   "source": [
    "## Calculation #2 Average Insurance Cost for Female and Male"
   ]
  },
  {
   "cell_type": "code",
   "execution_count": 5,
   "metadata": {
    "scrolled": true
   },
   "outputs": [],
   "source": [
    "#Separating insurance costs of females\n",
    "female_charges_list = []\n",
    "with open(\"insurance.csv\", \"r\") as insurance_csv:\n",
    "    insurance_csv = csv.DictReader(insurance_csv)\n",
    "    for row in insurance_csv:\n",
    "        if row[\"sex\"] == \"female\":\n",
    "            female_charges_list.append(row[\"charges\"])\n",
    "  \n",
    "    \n",
    "male_charges_list = []\n",
    "with open(\"insurance.csv\", \"r\") as insurance_csv:\n",
    "    insurance_csv = csv.DictReader(insurance_csv)\n",
    "    for row in insurance_csv:\n",
    "        if row[\"sex\"] == \"male\":\n",
    "            male_charges_list.append(row[\"charges\"])\n",
    "\n",
    "    "
   ]
  },
  {
   "cell_type": "code",
   "execution_count": 6,
   "metadata": {},
   "outputs": [
    {
     "name": "stdout",
     "output_type": "stream",
     "text": [
      "662\n",
      "676\n"
     ]
    }
   ],
   "source": [
    "#Next I am going to find total number of females and males in the sample\n",
    "num_female = len(female_charges_list)\n",
    "print(num_female)\n",
    "\n",
    "num_male = len(male_charges_list)\n",
    "print(num_male)"
   ]
  },
  {
   "cell_type": "code",
   "execution_count": 7,
   "metadata": {},
   "outputs": [
    {
     "name": "stdout",
     "output_type": "stream",
     "text": [
      "8321061.194618994\n",
      "12569.58\n",
      "9434763.796139995\n",
      "13956.75\n",
      "1387.17\n"
     ]
    }
   ],
   "source": [
    "#Average insurance cost for females\n",
    "\n",
    "female_charges_int = [float(charge) for charge in female_charges_list]\n",
    "female_charges_sum = 0\n",
    "for element in range(0, len(female_charges_int)):\n",
    "    female_charges_sum += female_charges_int[element]\n",
    "print(female_charges_sum)\n",
    "\n",
    "average_female_charge = round(female_charges_sum / num_female, 2)\n",
    "print(average_female_charge)\n",
    "\n",
    "\n",
    "#Average insurance cost for males\n",
    "\n",
    "male_charges_int = [float(charge) for charge in male_charges_list]\n",
    "male_charges_sum = 0\n",
    "for element in range(0, len(male_charges_int)):\n",
    "    male_charges_sum += male_charges_int[element]\n",
    "print(male_charges_sum)\n",
    "\n",
    "average_male_charge = round(male_charges_sum / num_male, 2)\n",
    "print(average_male_charge)\n",
    "    \n",
    "    \n",
    "difference = abs(average_female_charge - average_male_charge)\n",
    "print(difference)"
   ]
  },
  {
   "cell_type": "markdown",
   "metadata": {},
   "source": [
    "Calculation #2 conclusion: average insurance cost for men is higher than for women for 1387.17 USD in the given sample."
   ]
  },
  {
   "cell_type": "markdown",
   "metadata": {},
   "source": [
    "## Calculation #3 Average age of a person who has at least 3 children"
   ]
  },
  {
   "cell_type": "code",
   "execution_count": 8,
   "metadata": {},
   "outputs": [
    {
     "name": "stdout",
     "output_type": "stream",
     "text": [
      "40\n"
     ]
    }
   ],
   "source": [
    "age = []\n",
    "with open(\"insurance.csv\", \"r\") as insurance_csv:\n",
    "    insurance_csv = csv.DictReader(insurance_csv)\n",
    "    for row in insurance_csv:\n",
    "        if int(row[\"children\"]) >= 3:\n",
    "            age.append(row[\"age\"])\n",
    "    \n",
    "age_int = [int(age) for age in age]\n",
    "\n",
    "total_age = 0\n",
    "for i in range(0,len(age_int)):\n",
    "    total_age += age_int[i]\n",
    "    \n",
    "num_people = len(age_int)\n",
    "average_age = total_age /num_people\n",
    "print(int(average_age))\n",
    "    \n"
   ]
  },
  {
   "cell_type": "markdown",
   "metadata": {},
   "source": [
    "Calculation #3 conclusion: Average age of people who have at least 3 children is 40 in the given sample."
   ]
  },
  {
   "cell_type": "markdown",
   "metadata": {},
   "source": [
    "## How many children do women who smoke have on average compared to non-smoker?"
   ]
  },
  {
   "cell_type": "code",
   "execution_count": 9,
   "metadata": {},
   "outputs": [
    {
     "name": "stdout",
     "output_type": "stream",
     "text": [
      "115\n",
      "1\n",
      "547\n",
      "1\n",
      "0.8262839879154078\n"
     ]
    }
   ],
   "source": [
    "smoker_women = []\n",
    "with open(\"insurance.csv\", \"r\") as insurance_csv:\n",
    "    insurance_csv = csv.DictReader(insurance_csv)\n",
    "    for row in insurance_csv:\n",
    "        if row[\"smoker\"] == \"yes\" and row[\"sex\"] == \"female\":\n",
    "            smoker_women.append(row[\"children\"])\n",
    "\n",
    "children_int = [int(n) for n in smoker_women]\n",
    "\n",
    "total_children = 0\n",
    "for i in range(0,len(children_int)):\n",
    "    total_children += children_int[i]\n",
    "\n",
    "num_women = len(children_int)\n",
    "print(num_women)\n",
    "\n",
    "average_smoker_women_num = total_children / num_women\n",
    "print(int(average_smoker_women_num))\n",
    "\n",
    "#Smoker woman on average has 1 child.\n",
    "\n",
    "\n",
    "nonsmoker_women = []\n",
    "with open(\"insurance.csv\", \"r\") as insurance_csv:\n",
    "    insurance_csv = csv.DictReader(insurance_csv)\n",
    "    for row in insurance_csv:\n",
    "        if row[\"smoker\"] == \"no\" and row[\"sex\"] == \"female\":\n",
    "            nonsmoker_women.append(row[\"children\"])\n",
    "            \n",
    "children_nonsmoker = [int(n) for n in nonsmoker_women]\n",
    "\n",
    "nonsmoker_num = len(children_nonsmoker)\n",
    "print(nonsmoker_num)\n",
    "\n",
    "nonsmoker_int = 0\n",
    "for i in range(0,len(children_nonsmoker)):\n",
    "               nonsmoker_int += children_nonsmoker[i]\n",
    "\n",
    "average_children_nonsmoker = int(nonsmoker_int / nonsmoker_num)\n",
    "print(average_children_nonsmoker)\n",
    "\n",
    "#Nonsmoker woman on average has 1 child.\n",
    "\n",
    "smoker_prop = (nonsmoker_num / (nonsmoker_num + num_women))\n",
    "print(smoker_prop)\n",
    "    "
   ]
  },
  {
   "cell_type": "markdown",
   "metadata": {},
   "source": [
    "There is no difference in number of children between smoker and nonsmoker women. However, there are considerable difference in number of smoker vs. nonsmokers. 83% of women in the given sample are nonsmokers."
   ]
  },
  {
   "cell_type": "markdown",
   "metadata": {},
   "source": [
    "## Insurance cost function"
   ]
  },
  {
   "cell_type": "code",
   "execution_count": 10,
   "metadata": {},
   "outputs": [],
   "source": [
    "#I will extract each column from the csv file: age,sex,children\n",
    "\n",
    "age_col = []\n",
    "sex_col = []\n",
    "bmi_col = []\n",
    "children_col = []\n",
    "smoker_col = []\n",
    "region_col = []\n",
    "charge_col = []\n",
    "\n",
    "with open(\"insurance.csv\", \"r\") as insurance_csv:\n",
    "    insurance_csv = csv.DictReader(insurance_csv)\n",
    "    for row in insurance_csv:\n",
    "        age_col.append(row[\"age\"])        \n",
    "\n",
    "with open(\"insurance.csv\", \"r\") as insurance_csv:\n",
    "    insurance_csv = csv.DictReader(insurance_csv)\n",
    "    for row in insurance_csv:\n",
    "        sex_col.append(row[\"sex\"])\n",
    "    \n",
    "with open(\"insurance.csv\", \"r\") as insurance_csv:\n",
    "    insurance_csv = csv.DictReader(insurance_csv)\n",
    "    for row in insurance_csv:\n",
    "        bmi_col.append(row[\"bmi\"])\n",
    "        \n",
    "with open(\"insurance.csv\", \"r\") as insurance_csv:\n",
    "    insurance_csv = csv.DictReader(insurance_csv)\n",
    "    for row in insurance_csv:\n",
    "        children_col.append(row[\"children\"])\n",
    "        \n",
    "with open(\"insurance.csv\", \"r\") as insurance_csv:\n",
    "    insurance_csv = csv.DictReader(insurance_csv)\n",
    "    for row in insurance_csv:\n",
    "        smoker_col.append(row[\"smoker\"])\n",
    "        \n",
    "with open(\"insurance.csv\", \"r\") as insurance_csv:\n",
    "    insurance_csv = csv.DictReader(insurance_csv)\n",
    "    for row in insurance_csv:\n",
    "        charge_col.append(row[\"charges\"])\n",
    "        \n",
    "insurance_details = list(zip(age_col,sex_col,bmi_col,children_col,smoker_col,charge_col))\n",
    "\n",
    "\n",
    "#Next I am going to calculate estimated insurance cost using the insurance formula (250 * age - 128 * sex + 370 * bmi + 425 * num_of_children + 24000 * smoker - 12500)\n",
    "\n",
    "def insurance_cost(insurance_details):\n",
    "    for person in insurance_details:\n",
    "        for i in range(len(person)):\n",
    "            insurance_est = 250 * insurance_details[i][0] - 128 * insurance_details[i][1] + 370 * insurance_details[i][2] + 425 * insurance_details[i][3] + 24000 * insurance_details[i][4] - 12500\n",
    "        difference = insurance_est - insurance_details[i][5]\n",
    "        return difference\n",
    "\n",
    "#print(insurance_cost(insurance_details))\n",
    "    \n",
    "def insurance_cost(age,sex,bmi,children,smoker,charge):\n",
    "    insurance = 250 * age - 128 * sex + 370 * bmi + 425 * num_of_children + 24000 * smoker - 12500\n",
    "\n",
    "        \n",
    "\n",
    "\n",
    "#insurance_cost(age=age_col,sex=sex_col,bmi=bmi_col,children=children_col,smoker=smoker_col,charge=charge_col)\n",
    "#insurance_cost(age_col,sex_col,bmi_col,children_col,smoker_col,charge_col)\n",
    "\n"
   ]
  }
 ],
 "metadata": {
  "kernelspec": {
   "display_name": "Python 3",
   "language": "python",
   "name": "python3"
  },
  "language_info": {
   "codemirror_mode": {
    "name": "ipython",
    "version": 3
   },
   "file_extension": ".py",
   "mimetype": "text/x-python",
   "name": "python",
   "nbconvert_exporter": "python",
   "pygments_lexer": "ipython3",
   "version": "3.8.5"
  }
 },
 "nbformat": 4,
 "nbformat_minor": 4
}
